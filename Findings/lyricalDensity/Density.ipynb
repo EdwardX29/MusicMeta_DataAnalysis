{
 "cells": [
  {
   "cell_type": "code",
   "execution_count": 3,
   "metadata": {},
   "outputs": [
    {
     "name": "stdout",
     "output_type": "stream",
     "text": [
      "Total words from 2000s: 1042614\n",
      "Unique words from 2000s: 61706\n",
      "Total words from 2010s: 1888422\n",
      "Unique words from 2000s: 112322\n"
     ]
    }
   ],
   "source": [
    "import json\n",
    "with open(\"wordList2000s.txt\", \"r\") as f:\n",
    "    fileContent = json.load(f)\n",
    "    total2000 = len(fileContent)\n",
    "    unique2000 = len(set(fileContent))\n",
    "\n",
    "with open(\"wordList2010s.txt\", \"r\") as f:\n",
    "    fileContent = json.load(f)\n",
    "    total2010 = len(fileContent)\n",
    "    unique2010 = len(set(fileContent))\n",
    "\n",
    "print(f\"Total words from 2000s: {total2000}\")       # 1,042,614     from wordList2000s\n",
    "print(f\"Unique words from 2000s: {unique2000}\")     # 61,706        from wordSet2000s\n",
    "print(f\"Total words from 2010s: {total2010}\")       # 1,888,422     from wordList2010s\n",
    "print(f\"Unique words from 2000s: {unique2010}\")     # 112,322       from wordSet2010s\n",
    "\n",
    "\n"
   ]
  },
  {
   "cell_type": "code",
   "execution_count": 2,
   "metadata": {},
   "outputs": [
    {
     "name": "stdout",
     "output_type": "stream",
     "text": [
      "Performing two-sided proportions z-tests...\n",
      "p=0.305683011107594 > 0.05\n",
      "There is not sufficient evidence to conclude any differences in lyrical density.\n"
     ]
    }
   ],
   "source": [
    "from statsmodels.stats.proportion import proportions_ztest\n",
    "t, p = proportions_ztest(count=[unique2000,unique2010], nobs=[total2000, total2010],  alternative='two-sided')\n",
    "\n",
    "print(\"Performing two-sided proportions z-tests...\")\n",
    "print(f\"p={p} > 0.05\")\n",
    "print(\"There is not sufficient evidence to conclude any differences in lyrical density.\")"
   ]
  }
 ],
 "metadata": {
  "kernelspec": {
   "display_name": "Python 3.8.10 ('ENV': venv)",
   "language": "python",
   "name": "python3"
  },
  "language_info": {
   "codemirror_mode": {
    "name": "ipython",
    "version": 3
   },
   "file_extension": ".py",
   "mimetype": "text/x-python",
   "name": "python",
   "nbconvert_exporter": "python",
   "pygments_lexer": "ipython3",
   "version": "3.8.10"
  },
  "orig_nbformat": 4,
  "vscode": {
   "interpreter": {
    "hash": "261c162cf9b6cbf47b318a358ffbe750e069b12abe7a297490baf7ed0f5b717b"
   }
  }
 },
 "nbformat": 4,
 "nbformat_minor": 2
}
