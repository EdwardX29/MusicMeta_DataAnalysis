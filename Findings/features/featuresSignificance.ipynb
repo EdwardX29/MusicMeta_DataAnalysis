{
 "cells": [
  {
   "cell_type": "code",
   "execution_count": 2,
   "metadata": {},
   "outputs": [
    {
     "name": "stdout",
     "output_type": "stream",
     "text": [
      "number of features 2000s: 686\n",
      "total songs 2000s: 3519\n",
      "number of features 2010s: 1409\n",
      "total songs 2010s: 5364\n",
      "Testing that 2000 proportion of features < 2010 proportion of features...\n",
      "p=9.541882814838334e-14 < 0.05\n",
      "There is sufficient evidence to conclude that the proportion of songs with features increased\n"
     ]
    }
   ],
   "source": [
    "from statsmodels.stats.proportion import proportions_ztest\n",
    "import json\n",
    "\n",
    "with open(\"2000sSongs&Artists&FT.json\", \"r\") as f:\n",
    "    fileContent2000 = json.load(f)\n",
    "\n",
    "with open(\"2010sSongs&Artists&FT.json\", \"r\") as f:\n",
    "    fileContent2010 = json.load(f)\n",
    "\n",
    "numFeatures2000 = 0\n",
    "totalSongs2000 = len(fileContent2000)\n",
    "for songObj in fileContent2000:\n",
    "    if songObj[\"featuring\"] != \"\":\n",
    "        numFeatures2000 += 1\n",
    "\n",
    "numFeatures2010 = 0\n",
    "totalSongs2010 = len(fileContent2010)\n",
    "\n",
    "for songObj in fileContent2010:\n",
    "    if songObj[\"featuring\"] != \"\":\n",
    "        numFeatures2010 += 1\n",
    "\n",
    "print(\"number of features 2000s: \" + str(numFeatures2000))\n",
    "print(\"total songs 2000s: \" + str(totalSongs2000))\n",
    "print(\"number of features 2010s: \" + str(numFeatures2010))\n",
    "print(\"total songs 2010s: \" + str(totalSongs2010))\n",
    "\n",
    "\n",
    "print(\"Testing that 2000 proportion of features < 2010 proportion of features...\")\n",
    "t, p = proportions_ztest(count=[numFeatures2000,numFeatures2010], nobs=[totalSongs2000, totalSongs2010],  alternative='smaller')\n",
    "print(f\"p={p} < 0.05\")\n",
    "print(\"There is sufficient evidence to conclude that the proportion of songs with features increased\")\n",
    "\n",
    "# print(proportions_ztest(count=[aFeat,bFeat], nobs=[aTotal, bTotal],  alternative='larger'))\n",
    "# print(proportions_ztest(count=[aFeat,bFeat], nobs=[aTotal, bTotal],  alternative='smaller'))\n",
    "# print(proportions_ztest(count=[aFeat,bFeat], nobs=[aTotal, bTotal],  alternative='two-sided'))\n",
    "\n",
    "\n",
    "# (-7.35506260321145, 0.9999999999999046)\n",
    "# (-7.35506260321145, 9.541882814838334e-14)\n",
    "# (-7.35506260321145, 1.9083765629676669e-13)"
   ]
  }
 ],
 "metadata": {
  "kernelspec": {
   "display_name": "Python 3.8.10 ('ENV': venv)",
   "language": "python",
   "name": "python3"
  },
  "language_info": {
   "codemirror_mode": {
    "name": "ipython",
    "version": 3
   },
   "file_extension": ".py",
   "mimetype": "text/x-python",
   "name": "python",
   "nbconvert_exporter": "python",
   "pygments_lexer": "ipython3",
   "version": "3.8.10"
  },
  "orig_nbformat": 4,
  "vscode": {
   "interpreter": {
    "hash": "261c162cf9b6cbf47b318a358ffbe750e069b12abe7a297490baf7ed0f5b717b"
   }
  }
 },
 "nbformat": 4,
 "nbformat_minor": 2
}
