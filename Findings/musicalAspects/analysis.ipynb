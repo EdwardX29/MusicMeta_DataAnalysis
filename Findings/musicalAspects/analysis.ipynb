{
 "cells": [
  {
   "cell_type": "code",
   "execution_count": 10,
   "metadata": {},
   "outputs": [
    {
     "name": "stdout",
     "output_type": "stream",
     "text": [
      "Performing a Two-Tail Two Sample T-Test on Acoustic dataset\n",
      "P-Value : 1.2590170795591126e-14\n",
      "significant difference at the alpha=0.05 significance level\n",
      "rejecting the null hypothesis\n",
      "\n",
      "Performing a Two-Tail Two Sample T-Test on dance dataset\n",
      "P-Value : 9.810997886898305e-08\n",
      "significant difference at the alpha=0.05 significance level\n",
      "rejecting the null hypothesis\n",
      "\n",
      "Performing a Two-Tail Two Sample T-Test on energy dataset\n",
      "P-Value : 4.139127449408486e-42\n",
      "significant difference at the alpha=0.05 significance level\n",
      "rejecting the null hypothesis\n",
      "\n",
      "Performing a Two-Tail Two Sample T-Test on Instrumental dataset\n",
      "P-Value : 0.14742701676029538\n",
      "not significant\n",
      "\n",
      "Performing a Two-Tail Two Sample T-Test on Live dataset\n",
      "P-Value : 0.7154908658767783\n",
      "not significant\n",
      "\n",
      "Performing a Two-Tail Two Sample T-Test on loud dataset\n",
      "P-Value : 2.6704124713518495e-17\n",
      "significant difference at the alpha=0.05 significance level\n",
      "rejecting the null hypothesis\n",
      "\n",
      "Performing a Two-Tail Two Sample T-Test on Speech dataset\n",
      "P-Value : 3.723184170455895e-17\n",
      "significant difference at the alpha=0.05 significance level\n",
      "rejecting the null hypothesis\n",
      "\n",
      "Performing a Two-Tail Two Sample T-Test on Tempo dataset\n",
      "P-Value : 0.0020525917768687333\n",
      "significant difference at the alpha=0.05 significance level\n",
      "rejecting the null hypothesis\n",
      "\n",
      "Performing a Two-Tail Two Sample T-Test on Valence dataset\n",
      "P-Value : 3.742722320815015e-45\n",
      "significant difference at the alpha=0.05 significance level\n",
      "rejecting the null hypothesis\n",
      "\n",
      "Performing a Two-Tail Two Sample T-Test on duration dataset\n",
      "P-Value : 1.401792382419724e-85\n",
      "significant difference at the alpha=0.05 significance level\n",
      "rejecting the null hypothesis\n",
      "\n"
     ]
    }
   ],
   "source": [
    "from analyse import Analyse\n",
    "from scipy.stats import *\n",
    "\n",
    "# Instantiate List and Dict names for Analysis #\n",
    "\n",
    "listNames = [\n",
    "  \"Acoustic\",\n",
    "  \"dance\",\n",
    "  \"energy\",\n",
    "  \"Instrumental\",\n",
    "  \"Live\",\n",
    "  \"loud\",\n",
    "  \"Speech\",\n",
    "  \"Tempo\",\n",
    "  \"Valence\",\n",
    "  \"duration\"\n",
    "]\n",
    "\n",
    "\n",
    "# ----------------------------- #\n",
    "# Actually Analyse data #\n",
    "\n",
    "a = Analyse(\"2000\")\n",
    "b = Analyse(\"2010\")\n",
    "\n",
    "for name in listNames:\n",
    "    print(\"Performing a Two-Tail Two Sample T-Test on \" + name + \" dataset\")\n",
    "    aList = a.getList(name)\n",
    "    bList = b.getList(name)\n",
    "\n",
    "    # two tail t-test\n",
    "    TwoTail = ttest_ind(aList, bList, equal_var=True)\n",
    "    print(\"P-Value : \" + str(TwoTail.pvalue))\n",
    "\n",
    "    if TwoTail.pvalue < 0.05: \n",
    "      print(\"significant difference at the alpha=0.05 significance level\") \n",
    "      print(\"rejecting the null hypothesis\")\n",
    "    else: print(\"not significant\")\n",
    "  \n",
    "    print()\n",
    "\n",
    "\n",
    "\n",
    "\n"
   ]
  }
 ],
 "metadata": {
  "kernelspec": {
   "display_name": "Python 3.8.10 ('ENV': venv)",
   "language": "python",
   "name": "python3"
  },
  "language_info": {
   "codemirror_mode": {
    "name": "ipython",
    "version": 3
   },
   "file_extension": ".py",
   "mimetype": "text/x-python",
   "name": "python",
   "nbconvert_exporter": "python",
   "pygments_lexer": "ipython3",
   "version": "3.8.10"
  },
  "orig_nbformat": 4,
  "vscode": {
   "interpreter": {
    "hash": "261c162cf9b6cbf47b318a358ffbe750e069b12abe7a297490baf7ed0f5b717b"
   }
  }
 },
 "nbformat": 4,
 "nbformat_minor": 2
}
