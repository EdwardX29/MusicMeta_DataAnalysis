{
 "cells": [
  {
   "cell_type": "code",
   "execution_count": null,
   "metadata": {},
   "outputs": [],
   "source": [
    "from nltk.sentiment.vader import SentimentIntensityAnalyzer\n",
    "from nltk.corpus import stopwords\n",
    "\n",
    "\n",
    "sid = SentimentIntensityAnalyzer()\n",
    "\n",
    "with open(\"clean2000s.txt\", \"r\") as f:\n",
    "    lines = f.readlines()\n",
    "\n",
    "pos, neg, neu = 0,0,0\n",
    "\n",
    "for line in lines:\n",
    "\n",
    "    words = line.split(\" \")\n",
    "    filtered_words = [word.strip() for word in words if word not in stopwords.words('english') and len(word) > 1 and word not in ['na','la']]\n",
    "\n",
    "    comp = sid.polarity_scores(\" \".join(filtered_words))\n",
    "    if comp['pos'] > 0.5: pos+=1\n",
    "    elif comp['neg'] > 0.5: neg +=1 \n",
    "    else: neu+=1\n",
    "\n",
    "print(pos, neg, neu)\n",
    "\n",
    "with open(\"2000svalence.txt\", \"w\") as f:\n",
    "    f.write(str(pos)+\"\\n\")\n",
    "    f.write(str(neg)+\"\\n\")\n",
    "    f.write(str(neu))"
   ]
  },
  {
   "cell_type": "code",
   "execution_count": null,
   "metadata": {},
   "outputs": [],
   "source": [
    "from nltk.sentiment.vader import SentimentIntensityAnalyzer\n",
    "from nltk.corpus import stopwords\n",
    "\n",
    "with open(\"clean2010s.txt\", \"r\") as f:\n",
    "    lines = f.readlines()\n",
    "\n",
    "pos, neg, neu = 0,0,0\n",
    "\n",
    "for line in lines:\n",
    "\n",
    "    words = line.split(\" \")\n",
    "    filtered_words = [word.strip() for word in words if word not in stopwords.words('english') and len(word) > 1 and word not in ['na','la']]\n",
    "\n",
    "    comp = sid.polarity_scores(\" \".join(filtered_words))\n",
    "    if comp['pos'] > 0.5: pos+=1\n",
    "    elif comp['neg'] > 0.5: neg +=1 \n",
    "    else: neu+=1\n",
    "\n",
    "print(pos, neg, neu)\n",
    "\n",
    "with open(\"2010svalence.txt\", \"w\") as f:\n",
    "    f.write(str(pos)+\"\\n\")\n",
    "    f.write(str(neg)+\"\\n\")\n",
    "    f.write(str(neu))"
   ]
  }
 ],
 "metadata": {
  "kernelspec": {
   "display_name": "Python 3.8.10 ('ENV': venv)",
   "language": "python",
   "name": "python3"
  },
  "language_info": {
   "codemirror_mode": {
    "name": "ipython",
    "version": 3
   },
   "file_extension": ".py",
   "mimetype": "text/x-python",
   "name": "python",
   "nbconvert_exporter": "python",
   "pygments_lexer": "ipython3",
   "version": "3.8.10"
  },
  "orig_nbformat": 4,
  "vscode": {
   "interpreter": {
    "hash": "261c162cf9b6cbf47b318a358ffbe750e069b12abe7a297490baf7ed0f5b717b"
   }
  }
 },
 "nbformat": 4,
 "nbformat_minor": 2
}
