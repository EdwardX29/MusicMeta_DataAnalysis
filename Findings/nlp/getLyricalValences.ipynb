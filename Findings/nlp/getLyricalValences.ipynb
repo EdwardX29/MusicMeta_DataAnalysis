{
 "cells": [
  {
   "cell_type": "code",
   "execution_count": 1,
   "metadata": {},
   "outputs": [
    {
     "ename": "KeyboardInterrupt",
     "evalue": "",
     "output_type": "error",
     "traceback": [
      "\u001b[0;31m---------------------------------------------------------------------------\u001b[0m",
      "\u001b[0;31mKeyboardInterrupt\u001b[0m                         Traceback (most recent call last)",
      "\u001b[1;32m/mnt/c/Users/E4278/Documents/code/ulysses-organized/Findings/nlp/getLyricalValences.ipynb Cell 1\u001b[0m in \u001b[0;36m<cell line: 12>\u001b[0;34m()\u001b[0m\n\u001b[1;32m     <a href='vscode-notebook-cell://wsl%2Bubuntu/mnt/c/Users/E4278/Documents/code/ulysses-organized/Findings/nlp/getLyricalValences.ipynb#ch0000000vscode-remote?line=11'>12</a>\u001b[0m \u001b[39mfor\u001b[39;00m line \u001b[39min\u001b[39;00m lines:\n\u001b[1;32m     <a href='vscode-notebook-cell://wsl%2Bubuntu/mnt/c/Users/E4278/Documents/code/ulysses-organized/Findings/nlp/getLyricalValences.ipynb#ch0000000vscode-remote?line=13'>14</a>\u001b[0m     words \u001b[39m=\u001b[39m line\u001b[39m.\u001b[39msplit(\u001b[39m\"\u001b[39m\u001b[39m \u001b[39m\u001b[39m\"\u001b[39m)\n\u001b[0;32m---> <a href='vscode-notebook-cell://wsl%2Bubuntu/mnt/c/Users/E4278/Documents/code/ulysses-organized/Findings/nlp/getLyricalValences.ipynb#ch0000000vscode-remote?line=14'>15</a>\u001b[0m     filtered_words \u001b[39m=\u001b[39m [word\u001b[39m.\u001b[39mstrip() \u001b[39mfor\u001b[39;00m word \u001b[39min\u001b[39;00m words \u001b[39mif\u001b[39;00m word \u001b[39mnot\u001b[39;00m \u001b[39min\u001b[39;00m stopwords\u001b[39m.\u001b[39mwords(\u001b[39m'\u001b[39m\u001b[39menglish\u001b[39m\u001b[39m'\u001b[39m) \u001b[39mand\u001b[39;00m \u001b[39mlen\u001b[39m(word) \u001b[39m>\u001b[39m \u001b[39m1\u001b[39m \u001b[39mand\u001b[39;00m word \u001b[39mnot\u001b[39;00m \u001b[39min\u001b[39;00m [\u001b[39m'\u001b[39m\u001b[39mna\u001b[39m\u001b[39m'\u001b[39m,\u001b[39m'\u001b[39m\u001b[39mla\u001b[39m\u001b[39m'\u001b[39m]]\n\u001b[1;32m     <a href='vscode-notebook-cell://wsl%2Bubuntu/mnt/c/Users/E4278/Documents/code/ulysses-organized/Findings/nlp/getLyricalValences.ipynb#ch0000000vscode-remote?line=16'>17</a>\u001b[0m     comp \u001b[39m=\u001b[39m sid\u001b[39m.\u001b[39mpolarity_scores(\u001b[39m\"\u001b[39m\u001b[39m \u001b[39m\u001b[39m\"\u001b[39m\u001b[39m.\u001b[39mjoin(filtered_words))\n\u001b[1;32m     <a href='vscode-notebook-cell://wsl%2Bubuntu/mnt/c/Users/E4278/Documents/code/ulysses-organized/Findings/nlp/getLyricalValences.ipynb#ch0000000vscode-remote?line=17'>18</a>\u001b[0m     \u001b[39mif\u001b[39;00m comp[\u001b[39m'\u001b[39m\u001b[39mpos\u001b[39m\u001b[39m'\u001b[39m] \u001b[39m>\u001b[39m \u001b[39m0.5\u001b[39m: pos\u001b[39m+\u001b[39m\u001b[39m=\u001b[39m\u001b[39m1\u001b[39m\n",
      "\u001b[1;32m/mnt/c/Users/E4278/Documents/code/ulysses-organized/Findings/nlp/getLyricalValences.ipynb Cell 1\u001b[0m in \u001b[0;36m<listcomp>\u001b[0;34m(.0)\u001b[0m\n\u001b[1;32m     <a href='vscode-notebook-cell://wsl%2Bubuntu/mnt/c/Users/E4278/Documents/code/ulysses-organized/Findings/nlp/getLyricalValences.ipynb#ch0000000vscode-remote?line=11'>12</a>\u001b[0m \u001b[39mfor\u001b[39;00m line \u001b[39min\u001b[39;00m lines:\n\u001b[1;32m     <a href='vscode-notebook-cell://wsl%2Bubuntu/mnt/c/Users/E4278/Documents/code/ulysses-organized/Findings/nlp/getLyricalValences.ipynb#ch0000000vscode-remote?line=13'>14</a>\u001b[0m     words \u001b[39m=\u001b[39m line\u001b[39m.\u001b[39msplit(\u001b[39m\"\u001b[39m\u001b[39m \u001b[39m\u001b[39m\"\u001b[39m)\n\u001b[0;32m---> <a href='vscode-notebook-cell://wsl%2Bubuntu/mnt/c/Users/E4278/Documents/code/ulysses-organized/Findings/nlp/getLyricalValences.ipynb#ch0000000vscode-remote?line=14'>15</a>\u001b[0m     filtered_words \u001b[39m=\u001b[39m [word\u001b[39m.\u001b[39mstrip() \u001b[39mfor\u001b[39;00m word \u001b[39min\u001b[39;00m words \u001b[39mif\u001b[39;00m word \u001b[39mnot\u001b[39;00m \u001b[39min\u001b[39;00m stopwords\u001b[39m.\u001b[39;49mwords(\u001b[39m'\u001b[39;49m\u001b[39menglish\u001b[39;49m\u001b[39m'\u001b[39;49m) \u001b[39mand\u001b[39;00m \u001b[39mlen\u001b[39m(word) \u001b[39m>\u001b[39m \u001b[39m1\u001b[39m \u001b[39mand\u001b[39;00m word \u001b[39mnot\u001b[39;00m \u001b[39min\u001b[39;00m [\u001b[39m'\u001b[39m\u001b[39mna\u001b[39m\u001b[39m'\u001b[39m,\u001b[39m'\u001b[39m\u001b[39mla\u001b[39m\u001b[39m'\u001b[39m]]\n\u001b[1;32m     <a href='vscode-notebook-cell://wsl%2Bubuntu/mnt/c/Users/E4278/Documents/code/ulysses-organized/Findings/nlp/getLyricalValences.ipynb#ch0000000vscode-remote?line=16'>17</a>\u001b[0m     comp \u001b[39m=\u001b[39m sid\u001b[39m.\u001b[39mpolarity_scores(\u001b[39m\"\u001b[39m\u001b[39m \u001b[39m\u001b[39m\"\u001b[39m\u001b[39m.\u001b[39mjoin(filtered_words))\n\u001b[1;32m     <a href='vscode-notebook-cell://wsl%2Bubuntu/mnt/c/Users/E4278/Documents/code/ulysses-organized/Findings/nlp/getLyricalValences.ipynb#ch0000000vscode-remote?line=17'>18</a>\u001b[0m     \u001b[39mif\u001b[39;00m comp[\u001b[39m'\u001b[39m\u001b[39mpos\u001b[39m\u001b[39m'\u001b[39m] \u001b[39m>\u001b[39m \u001b[39m0.5\u001b[39m: pos\u001b[39m+\u001b[39m\u001b[39m=\u001b[39m\u001b[39m1\u001b[39m\n",
      "File \u001b[0;32m/mnt/c/Users/E4278/Documents/code/ulysses-organized/ENV/lib/python3.8/site-packages/nltk/corpus/reader/wordlist.py:21\u001b[0m, in \u001b[0;36mWordListCorpusReader.words\u001b[0;34m(self, fileids, ignore_lines_startswith)\u001b[0m\n\u001b[1;32m     18\u001b[0m \u001b[39mdef\u001b[39;00m \u001b[39mwords\u001b[39m(\u001b[39mself\u001b[39m, fileids\u001b[39m=\u001b[39m\u001b[39mNone\u001b[39;00m, ignore_lines_startswith\u001b[39m=\u001b[39m\u001b[39m\"\u001b[39m\u001b[39m\\n\u001b[39;00m\u001b[39m\"\u001b[39m):\n\u001b[1;32m     19\u001b[0m     \u001b[39mreturn\u001b[39;00m [\n\u001b[1;32m     20\u001b[0m         line\n\u001b[0;32m---> 21\u001b[0m         \u001b[39mfor\u001b[39;00m line \u001b[39min\u001b[39;00m line_tokenize(\u001b[39mself\u001b[39;49m\u001b[39m.\u001b[39;49mraw(fileids))\n\u001b[1;32m     22\u001b[0m         \u001b[39mif\u001b[39;00m \u001b[39mnot\u001b[39;00m line\u001b[39m.\u001b[39mstartswith(ignore_lines_startswith)\n\u001b[1;32m     23\u001b[0m     ]\n",
      "File \u001b[0;32m/mnt/c/Users/E4278/Documents/code/ulysses-organized/ENV/lib/python3.8/site-packages/nltk/corpus/reader/api.py:219\u001b[0m, in \u001b[0;36mCorpusReader.raw\u001b[0;34m(self, fileids)\u001b[0m\n\u001b[1;32m    217\u001b[0m \u001b[39mfor\u001b[39;00m f \u001b[39min\u001b[39;00m fileids:\n\u001b[1;32m    218\u001b[0m     \u001b[39mwith\u001b[39;00m \u001b[39mself\u001b[39m\u001b[39m.\u001b[39mopen(f) \u001b[39mas\u001b[39;00m fp:\n\u001b[0;32m--> 219\u001b[0m         contents\u001b[39m.\u001b[39mappend(fp\u001b[39m.\u001b[39mread())\n\u001b[1;32m    220\u001b[0m \u001b[39mreturn\u001b[39;00m concat(contents)\n",
      "File \u001b[0;32m/mnt/c/Users/E4278/Documents/code/ulysses-organized/ENV/lib/python3.8/site-packages/nltk/data.py:1167\u001b[0m, in \u001b[0;36mSeekableUnicodeStreamReader.__exit__\u001b[0;34m(self, type, value, traceback)\u001b[0m\n\u001b[1;32m   1166\u001b[0m \u001b[39mdef\u001b[39;00m \u001b[39m__exit__\u001b[39m(\u001b[39mself\u001b[39m, \u001b[39mtype\u001b[39m, value, traceback):\n\u001b[0;32m-> 1167\u001b[0m     \u001b[39mself\u001b[39;49m\u001b[39m.\u001b[39;49mclose()\n",
      "File \u001b[0;32m/mnt/c/Users/E4278/Documents/code/ulysses-organized/ENV/lib/python3.8/site-packages/nltk/data.py:1196\u001b[0m, in \u001b[0;36mSeekableUnicodeStreamReader.close\u001b[0;34m(self)\u001b[0m\n\u001b[1;32m   1192\u001b[0m \u001b[39mdef\u001b[39;00m \u001b[39mclose\u001b[39m(\u001b[39mself\u001b[39m):\n\u001b[1;32m   1193\u001b[0m     \u001b[39m\"\"\"\u001b[39;00m\n\u001b[1;32m   1194\u001b[0m \u001b[39m    Close the underlying stream.\u001b[39;00m\n\u001b[1;32m   1195\u001b[0m \u001b[39m    \"\"\"\u001b[39;00m\n\u001b[0;32m-> 1196\u001b[0m     \u001b[39mself\u001b[39;49m\u001b[39m.\u001b[39;49mstream\u001b[39m.\u001b[39;49mclose()\n",
      "\u001b[0;31mKeyboardInterrupt\u001b[0m: "
     ]
    }
   ],
   "source": [
    "from nltk.sentiment.vader import SentimentIntensityAnalyzer\n",
    "from nltk.corpus import stopwords\n",
    "\n",
    "\n",
    "sid = SentimentIntensityAnalyzer()\n",
    "\n",
    "with open(\"clean2000s.txt\", \"r\") as f:\n",
    "    lines = f.readlines()\n",
    "\n",
    "pos, neg, neu = 0,0,0\n",
    "\n",
    "for line in lines:\n",
    "\n",
    "    words = line.split(\" \")\n",
    "    filtered_words = [word.strip() for word in words if word not in stopwords.words('english') and len(word) > 1 and word not in ['na','la']]\n",
    "\n",
    "    comp = sid.polarity_scores(\" \".join(filtered_words))\n",
    "    if comp['pos'] > 0.5: pos+=1\n",
    "    elif comp['neg'] > 0.5: neg +=1 \n",
    "    else: neu+=1\n",
    "\n",
    "print(pos, neg, neu)\n",
    "\n",
    "with open(\"2000svalence.txt\", \"w\") as f:\n",
    "    f.write(str(pos)+\"\\n\")\n",
    "    f.write(str(neg)+\"\\n\")\n",
    "    f.write(str(neu))"
   ]
  },
  {
   "cell_type": "code",
   "execution_count": null,
   "metadata": {},
   "outputs": [],
   "source": [
    "with open(\"clean2010s.txt\", \"r\") as f:\n",
    "    lines = f.readlines()\n",
    "\n",
    "pos, neg, neu = 0,0,0\n",
    "\n",
    "for line in lines:\n",
    "\n",
    "    words = line.split(\" \")\n",
    "    filtered_words = [word.strip() for word in words if word not in stopwords.words('english') and len(word) > 1 and word not in ['na','la']]\n",
    "\n",
    "    comp = sid.polarity_scores(\" \".join(filtered_words))\n",
    "    if comp['pos'] > 0.5: pos+=1\n",
    "    elif comp['neg'] > 0.5: neg +=1 \n",
    "    else: neu+=1\n",
    "\n",
    "print(pos, neg, neu)\n",
    "\n",
    "with open(\"2010svalence.txt\", \"w\") as f:\n",
    "    f.write(str(pos)+\"\\n\")\n",
    "    f.write(str(neg)+\"\\n\")\n",
    "    f.write(str(neu))"
   ]
  }
 ],
 "metadata": {
  "kernelspec": {
   "display_name": "Python 3.8.10 ('ENV': venv)",
   "language": "python",
   "name": "python3"
  },
  "language_info": {
   "codemirror_mode": {
    "name": "ipython",
    "version": 3
   },
   "file_extension": ".py",
   "mimetype": "text/x-python",
   "name": "python",
   "nbconvert_exporter": "python",
   "pygments_lexer": "ipython3",
   "version": "3.8.10"
  },
  "orig_nbformat": 4,
  "vscode": {
   "interpreter": {
    "hash": "261c162cf9b6cbf47b318a358ffbe750e069b12abe7a297490baf7ed0f5b717b"
   }
  }
 },
 "nbformat": 4,
 "nbformat_minor": 2
}
